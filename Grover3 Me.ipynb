{
 "cells": [
  {
   "cell_type": "code",
   "execution_count": 13,
   "metadata": {},
   "outputs": [],
   "source": [
    "#initialization\n",
    "import matplotlib.pyplot as plt\n",
    "import numpy as np\n",
    "\n",
    "# importing Qiskit\n",
    "from qiskit import IBMQ, Aer, QuantumCircuit, ClassicalRegister, QuantumRegister, execute\n",
    "from qiskit.providers.ibmq import least_busy\n",
    "\n",
    "# import basic plot tools\n",
    "from qiskit.visualization import plot_histogram"
   ]
  },
  {
   "cell_type": "code",
   "execution_count": 14,
   "metadata": {},
   "outputs": [],
   "source": [
    "def initialize_e(circuit, qubits):\n",
    "    for qubit in qubits:\n",
    "        circuit.h(qubit)\n",
    "    return circuit"
   ]
  },
  {
   "cell_type": "code",
   "execution_count": 15,
   "metadata": {},
   "outputs": [],
   "source": [
    "# Creating the oracle\n",
    "qc = QuantumCircuit(4)\n",
    "qc.x(1)\n",
    "qc.mct(list(range(3)), 3)\n",
    "qc.x(1)\n",
    "qc.draw()\n",
    "oracle = qc.to_gate()\n",
    "oracle.name = \"Search Box\""
   ]
  },
  {
   "cell_type": "code",
   "execution_count": 16,
   "metadata": {},
   "outputs": [],
   "source": [
    "def diffuser(nqubits):\n",
    "    circuit = QuantumCircuit(nqubits)\n",
    "    for qubit in range(nqubits-1):\n",
    "        circuit.h(qubit)\n",
    "    for qubit in range(nqubits-1):\n",
    "        circuit.x(qubit)\n",
    "    \n",
    "    circuit.mct(list(range(3)), 3)\n",
    "    \n",
    "    for qubit in range(nqubits-1):\n",
    "        circuit.x(qubit)\n",
    "    for qubit in range(nqubits-1):\n",
    "        circuit.h(qubit)\n",
    "    circuit.draw()\n",
    "    \n",
    "    # We will return the diffuser as a gate\n",
    "    U_s = circuit.to_gate()\n",
    "    U_s.name = \"Diffuser\"\n",
    "    return U_s"
   ]
  },
  {
   "cell_type": "code",
   "execution_count": 17,
   "metadata": {},
   "outputs": [
    {
     "data": {
      "text/html": [
       "<pre style=\"word-wrap: normal;white-space: pre;background: #fff0;line-height: 1.1;font-family: &quot;Courier New&quot;,Courier,monospace\">       ┌───┐     ┌─────────────┐┌───────────┐┌─────────────┐┌───────────┐      »\n",
       "q13_0: ┤ H ├─────┤0            ├┤0          ├┤0            ├┤0          ├──────»\n",
       "       ├───┤     │             ││           ││             ││           │   ┌─┐»\n",
       "q13_1: ┤ H ├─────┤1            ├┤1          ├┤1            ├┤1          ├───┤M├»\n",
       "       ├───┤     │  Search Box ││  Diffuser ││  Search Box ││  Diffuser │   └╥┘»\n",
       "q13_2: ┤ H ├─────┤2            ├┤2          ├┤2            ├┤2          ├────╫─»\n",
       "       ├───┤┌───┐│             ││           ││             ││           │┌─┐ ║ »\n",
       "q14_0: ┤ X ├┤ H ├┤3            ├┤3          ├┤3            ├┤3          ├┤M├─╫─»\n",
       "       └───┘└───┘└─────────────┘└───────────┘└─────────────┘└───────────┘└╥┘ ║ »\n",
       " c1: 3/═══════════════════════════════════════════════════════════════════╩══╩═»\n",
       "                                                                          0  1 »\n",
       "«          ┌─┐\n",
       "«q13_0: ───┤M├\n",
       "«          └╥┘\n",
       "«q13_1: ────╫─\n",
       "«       ┌─┐ ║ \n",
       "«q13_2: ┤M├─╫─\n",
       "«       └╥┘ ║ \n",
       "«q14_0: ─╫──╫─\n",
       "«        ║  ║ \n",
       "« c1: 3/═╩══╩═\n",
       "«        2  0 </pre>"
      ],
      "text/plain": [
       "       ┌───┐     ┌─────────────┐┌───────────┐┌─────────────┐┌───────────┐      »\n",
       "q13_0: ┤ H ├─────┤0            ├┤0          ├┤0            ├┤0          ├──────»\n",
       "       ├───┤     │             ││           ││             ││           │   ┌─┐»\n",
       "q13_1: ┤ H ├─────┤1            ├┤1          ├┤1            ├┤1          ├───┤M├»\n",
       "       ├───┤     │  Search Box ││  Diffuser ││  Search Box ││  Diffuser │   └╥┘»\n",
       "q13_2: ┤ H ├─────┤2            ├┤2          ├┤2            ├┤2          ├────╫─»\n",
       "       ├───┤┌───┐│             ││           ││             ││           │┌─┐ ║ »\n",
       "q14_0: ┤ X ├┤ H ├┤3            ├┤3          ├┤3            ├┤3          ├┤M├─╫─»\n",
       "       └───┘└───┘└─────────────┘└───────────┘└─────────────┘└───────────┘└╥┘ ║ »\n",
       " c1: 3/═══════════════════════════════════════════════════════════════════╩══╩═»\n",
       "                                                                          0  1 »\n",
       "«          ┌─┐\n",
       "«q13_0: ───┤M├\n",
       "«          └╥┘\n",
       "«q13_1: ────╫─\n",
       "«       ┌─┐ ║ \n",
       "«q13_2: ┤M├─╫─\n",
       "«       └╥┘ ║ \n",
       "«q14_0: ─╫──╫─\n",
       "«        ║  ║ \n",
       "« c1: 3/═╩══╩═\n",
       "«        2  0 "
      ]
     },
     "execution_count": 17,
     "metadata": {},
     "output_type": "execute_result"
    }
   ],
   "source": [
    "n = 3\n",
    "q = QuantumRegister(n) # n qubits\n",
    "a = QuantumRegister(1) # one ancilla qubit\n",
    "c = ClassicalRegister(n) # n classical bits for output\n",
    "\n",
    "grover_circuit = QuantumCircuit(q, a, c)\n",
    "\n",
    "# Put ancilla qubit in |->\n",
    "grover_circuit.x(a[0])\n",
    "grover_circuit.h(a[0])\n",
    "\n",
    "grover_circuit = initialize_e(grover_circuit, [0,1,2])\n",
    "grover_circuit.append(oracle, [0,1,2,3])\n",
    "grover_circuit.append(diffuser(4), [0,1,2,3])\n",
    "grover_circuit.append(oracle, [0,1,2,3])\n",
    "grover_circuit.append(diffuser(4), [0,1,2,3])\n",
    "\n",
    "\n",
    "grover_circuit.measure(a[0],c[0]) # measure the ancilla to one of the classical bits\n",
    "grover_circuit.measure(q,c) # measure the n qubits to the n bits (overwriting the output from the previous measurement\n",
    "\n",
    "# grover_circuit.measure([0, 1, 2])\n",
    "# grover_circuit.measure_all()\n",
    "# grover_circuit.measure(qr, cr)\n",
    "# grover_circuit.measure(measured_qr, cr)\n",
    "\n",
    "grover_circuit.draw()"
   ]
  },
  {
   "cell_type": "code",
   "execution_count": 19,
   "metadata": {},
   "outputs": [
    {
     "data": {
      "image/png": "[encoded data removed]",
      "text/plain": [
       "<Figure size 504x360 with 1 Axes>"
      ]
     },
     "execution_count": 19,
     "metadata": {},
     "output_type": "execute_result"
    }
   ],
   "source": [
    "backend = Aer.get_backend('qasm_simulator')\n",
    "results = execute(grover_circuit, backend=backend, shots=1024).result()\n",
    "answer = results.get_counts()\n",
    "plot_histogram(answer)"
   ]
  },
  {
   "cell_type": "code",
   "execution_count": 7,
   "metadata": {},
   "outputs": [
    {
     "name": "stderr",
     "output_type": "stream",
     "text": [
      "C:\\ProgramData\\Anaconda3\\lib\\site-packages\\qiskit\\providers\\ibmq\\ibmqfactory.py:192: UserWarning: Timestamps in IBMQ backend properties, jobs, and job results are all now in local time instead of UTC.\n",
      "  warnings.warn('Timestamps in IBMQ backend properties, jobs, and job results '\n"
     ]
    },
    {
     "name": "stdout",
     "output_type": "stream",
     "text": [
      "Job Status: job has successfully run\n"
     ]
    }
   ],
   "source": [
    "IBMQ.load_account()\n",
    "provider = IBMQ.get_provider('ibm-q')\n",
    "qcomp = provider.get_backend('ibmq_16_melbourne')\n",
    "job = execute(grover_circuit, backend=qcomp)\n",
    "from qiskit.tools.monitor import job_monitor\n",
    "job_monitor(job)"
   ]
  },
  {
   "cell_type": "code",
   "execution_count": 8,
   "metadata": {},
   "outputs": [
    {
     "data": {
      "image/png": "[encoded data removed]",
      "text/plain": [
       "<Figure size 504x360 with 1 Axes>"
      ]
     },
     "execution_count": 8,
     "metadata": {},
     "output_type": "execute_result"
    }
   ],
   "source": [
    "result=job.result()\n",
    "plot_histogram(result.get_counts(grover_circuit))"
   ]
  },
  {
   "cell_type": "code",
   "execution_count": 12,
   "metadata": {},
   "outputs": [
    {
     "data": {
      "text/html": [
       "<pre style=\"word-wrap: normal;white-space: pre;background: #fff0;line-height: 1.1;font-family: &quot;Courier New&quot;,Courier,monospace\">     ┌───┐┌───┐     ┌───┐┌───┐\n",
       "q_0: ┤ H ├┤ X ├──■──┤ X ├┤ H ├\n",
       "     ├───┤├───┤  │  ├───┤├───┤\n",
       "q_1: ┤ H ├┤ X ├──■──┤ X ├┤ H ├\n",
       "     ├───┤├───┤  │  ├───┤├───┤\n",
       "q_2: ┤ H ├┤ X ├──■──┤ X ├┤ H ├\n",
       "     └───┘└───┘┌─┴─┐└───┘└───┘\n",
       "q_3: ──────────┤ X ├──────────\n",
       "               └───┘          </pre>"
      ],
      "text/plain": [
       "     ┌───┐┌───┐     ┌───┐┌───┐\n",
       "q_0: ┤ H ├┤ X ├──■──┤ X ├┤ H ├\n",
       "     ├───┤├───┤  │  ├───┤├───┤\n",
       "q_1: ┤ H ├┤ X ├──■──┤ X ├┤ H ├\n",
       "     ├───┤├───┤  │  ├───┤├───┤\n",
       "q_2: ┤ H ├┤ X ├──■──┤ X ├┤ H ├\n",
       "     └───┘└───┘┌─┴─┐└───┘└───┘\n",
       "q_3: ──────────┤ X ├──────────\n",
       "               └───┘          "
      ]
     },
     "execution_count": 12,
     "metadata": {},
     "output_type": "execute_result"
    }
   ],
   "source": [
    "nqubits = 4\n",
    "circuit = QuantumCircuit(nqubits)\n",
    "for qubit in range(nqubits-1):\n",
    "    circuit.h(qubit)\n",
    "for qubit in range(nqubits-1):\n",
    "    circuit.x(qubit)\n",
    "\n",
    "circuit.mct(list(range(3)), 3)\n",
    "\n",
    "for qubit in range(nqubits-1):\n",
    "    circuit.x(qubit)\n",
    "for qubit in range(nqubits-1):\n",
    "    circuit.h(qubit)\n",
    "circuit.draw()"
   ]
  },
  {
   "cell_type": "code",
   "execution_count": null,
   "metadata": {},
   "outputs": [],
   "source": []
  }
 ],
 "metadata": {
  "kernelspec": {
   "display_name": "Python 3",
   "language": "python",
   "name": "python3"
  },
  "language_info": {
   "codemirror_mode": {
    "name": "ipython",
    "version": 3
   },
   "file_extension": ".py",
   "mimetype": "text/x-python",
   "name": "python",
   "nbconvert_exporter": "python",
   "pygments_lexer": "ipython3",
   "version": "3.8.5"
  }
 },
 "nbformat": 4,
 "nbformat_minor": 4
}
